{
 "cells": [
  {
   "cell_type": "markdown",
   "metadata": {},
   "source": [
    "# Exercícios\n",
    "\n",
    "## 1. Faturamento do Melhor e do Pior Mês do Ano\n",
    "\n",
    "Qual foi o valor de vendas do melhor mês do Ano?\n",
    "E valor do pior mês do ano?"
   ]
  },
  {
   "cell_type": "code",
   "execution_count": 93,
   "metadata": {},
   "outputs": [
    {
     "name": "stdout",
     "output_type": "stream",
     "text": [
      "O Mês com melhores vendas foi o nov\n",
      "O Mês com piores vendas foi o dez\n"
     ]
    }
   ],
   "source": [
    "meses = ['jan', 'fev', 'mar', 'abr', 'mai', 'jun', 'jul', 'ago', 'set', 'out', 'nov', 'dez']\n",
    "vendas_1sem = [25000, 29000, 22200, 17750, 15870, 19900]\n",
    "vendas_2sem = [19850, 20120, 17540, 15555, 49051, 9650]\n",
    "vendas_anual = vendas_1sem + vendas_2sem\n",
    "valor_melhor = max(vendas_anual)\n",
    "valor_pior = min(vendas_anual)\n",
    "i_melhor = vendas_anual.index(valor_melhor)\n",
    "i_pior = vendas_anual.index(valor_pior)\n",
    "print(f'O Mês com melhores vendas foi o {meses[i_melhor]}')\n",
    "print(f'O Mês com piores vendas foi o {meses[i_pior]}')"
   ]
  },
  {
   "cell_type": "markdown",
   "metadata": {},
   "source": [
    "## 2. Continuação\n",
    "\n",
    "Agora relacione as duas listas para printar 'O melhor mês do ano foi {} com {} vendas' e o mesmo para o pior mês do ano.\n",
    "\n",
    "Calcule também o faturamento total do Ano e quanto que o melhor mês representou do faturamento total.\n",
    "\n",
    "Obs: Para o faturamento total, pode usar a função sum(lista) que soma todos os itens de uma lista"
   ]
  },
  {
   "cell_type": "code",
   "execution_count": 94,
   "metadata": {},
   "outputs": [
    {
     "name": "stdout",
     "output_type": "stream",
     "text": [
      "O Mês com melhores vendas foi o nov com R$49051,00\n",
      "O Mês com piores vendas foi o dez com R$9650,00\n",
      "Esse ano vendemos um total de R$261486,00\n",
      "E nov foi igual a 18.76% do ano todo.\n"
     ]
    }
   ],
   "source": [
    "print(f'O Mês com melhores vendas foi o {meses[i_melhor]} com R${valor_melhor},00')\n",
    "print(f'O Mês com piores vendas foi o {meses[i_pior]} com R${valor_pior},00')\n",
    "total_anual = sum(vendas_anual)\n",
    "print(f'Esse ano vendemos um total de R${total_anual},00')\n",
    "print(f'E {meses[i_melhor]} foi igual a {(valor_melhor*100)/total_anual:.2f}% do ano todo.')"
   ]
  },
  {
   "cell_type": "markdown",
   "metadata": {},
   "source": [
    "## 3. Crie uma lista com o top 3 valores de vendas do ano (sem fazer \"no olho\")\n",
    "\n",
    "Dica: o método remove retira um item da lista."
   ]
  },
  {
   "cell_type": "code",
   "execution_count": 95,
   "metadata": {},
   "outputs": [
    {
     "name": "stdout",
     "output_type": "stream",
     "text": [
      "[49051, 29000, 25000]\n"
     ]
    }
   ],
   "source": [
    "top3 = []\n",
    "\n",
    "while len(top3) < 3:\n",
    "    valor_melhor = max(vendas_anual)\n",
    "    i_melhor = vendas_anual.index(valor_melhor)\n",
    "    item_removido = vendas_anual.pop(i_melhor)\n",
    "    top3 += [item_removido]\n",
    "print(top3)"
   ]
  }
 ],
 "metadata": {
  "kernelspec": {
   "display_name": "Python 3",
   "language": "python",
   "name": "python3"
  },
  "language_info": {
   "codemirror_mode": {
    "name": "ipython",
    "version": 3
   },
   "file_extension": ".py",
   "mimetype": "text/x-python",
   "name": "python",
   "nbconvert_exporter": "python",
   "pygments_lexer": "ipython3",
   "version": "3.11.3"
  }
 },
 "nbformat": 4,
 "nbformat_minor": 4
}
