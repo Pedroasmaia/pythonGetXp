{
 "cells": [
  {
   "cell_type": "markdown",
   "id": "4882c553",
   "metadata": {},
   "source": [
    "### Operadores\n",
    "\n",
    "    [] – conjunto de  caracteres;\n",
    "    \\ – sequência especial de caracteres;\n",
    "    ^ – buscar elementos no início da string;\n",
    "    $ – buscar elementos no final da string;\n",
    "    * – buscar zero ou mais repetições de uma substring;\n",
    "    + – uma ou mais aparições de uma substring;\n",
    "    ? – zero ou uma aparição;\n",
    "    | – busca um caractere ou outro.\n",
    "    {} - quantidade específica de caracteres\n",
    "    [^] - diferente de um caractere especificado logo após o ^\n",
    "    () - apenas para agrupar regras e definir ordem de aplicação (igual matemática)\n",
    "\n",
    "### Especificando caracteres:\n",
    "    . - qualquer caractere\n",
    "    \\d - qualquer dígito\n",
    "    \\D - não é dígito\n",
    "    \\w - qualquer alfanumérico\n",
    "    \\W - não é alfanumérico\n",
    "    \\s - espaço em branco\n",
    "    \\S - não é espaço em branco\n",
    "\n",
    "#### obs: lembre de usar a string como raw string\n",
    "\n",
    "### Funções\n",
    "#### Lembre sempre de importar a biblioteca re\n",
    "\n",
    "- re.compile('padrao_regex') -> compilar um padrão regex\n",
    "- re.search(padrao_compilado, texto) -> procura uma ocorrência do padrão no texto (re.match só procura na 1ª linha do texto)\n",
    "- re.findall(padrao_compilado, texto) -> encontra todas as ocorrencias do padrão em um texto - armazena em uma lista\n",
    "- re.finditer(padrao_compilado, texto) -> encontra todas as ocorrencias e armazena em um iterador"
   ]
  },
  {
   "cell_type": "markdown",
   "id": "e2d8e3da",
   "metadata": {},
   "source": [
    "#### Ex: Links"
   ]
  },
  {
   "cell_type": "code",
   "execution_count": 16,
   "id": "a012ad53",
   "metadata": {},
   "outputs": [
    {
     "name": "stdout",
     "output_type": "stream",
     "text": [
      "[('https://', '', 'com'), ('http://', '', 'com'), ('https://', 'www.', 'org'), ('', 'www.', 'gov.br')]\n",
      "https://portalhashtag.com\n",
      "http://hashtagtreinamentos.com\n",
      "https://www.wikipedia.org\n",
      "www.bcb.gov.br\n"
     ]
    }
   ],
   "source": [
    "import re\n",
    "texto2 = \"\"\"\n",
    "Olá\n",
    "\n",
    "Segue o relatório de SEO para os seguintes sites:\n",
    "https://portalhashtag.com\n",
    "http://hashtagtreinamentos.com\n",
    "https://www.wikipedia.org/\n",
    "www.bcb.gov.br/\n",
    "\n",
    "Qualquer dúvida estamos à disposição\"\"\"\n",
    "\n",
    "pattern = re.compile(r\"(https?://)?(www\\.)?\\w+\\.(com\\.br|com|org|gov\\.br)\")\n",
    "resultado1 = re.findall(pattern,texto2) # Mostra apenas o que esta em parântesse\n",
    "resultado2 = re.finditer(pattern,texto2) # Cada item mostra o que procuramos\n",
    "print(resultado1)\n",
    "for item in resultado2:\n",
    "  print(item.group(0))"
   ]
  }
 ],
 "metadata": {
  "kernelspec": {
   "display_name": "Python 3 (ipykernel)",
   "language": "python",
   "name": "python3"
  },
  "language_info": {
   "codemirror_mode": {
    "name": "ipython",
    "version": 3
   },
   "file_extension": ".py",
   "mimetype": "text/x-python",
   "name": "python",
   "nbconvert_exporter": "python",
   "pygments_lexer": "ipython3",
   "version": "3.11.7"
  }
 },
 "nbformat": 4,
 "nbformat_minor": 5
}
