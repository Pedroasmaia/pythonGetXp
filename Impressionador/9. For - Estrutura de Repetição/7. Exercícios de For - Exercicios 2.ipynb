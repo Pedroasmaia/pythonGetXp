{
 "cells": [
  {
   "cell_type": "markdown",
   "metadata": {},
   "source": [
    "## 3. Comparação com Ano Anterior\n",
    "\n",
    "Digamos que você está analisando as vendas de produtos de um ecommerce e quer identificar quais produtos tiveram no ano de 2020 mais vendas do que no ano de 2019, para reportar isso para a diretoria.\n",
    "\n",
    "Sua resposta pode ser um print de cada produto, qual foi a venda de 2019, a venda de 2020 e o % de crescimento de 2020 para 2019.\n",
    "\n",
    "Lembrando, para calcular o % de crescimento de um produto de um ano para o outro, podemos fazer: (vendas_produto2020/vendas_produto2019 - 1)\n",
    "\n",
    "Dica: lembre do enumerate, ele pode facilitar seu \"for\""
   ]
  },
  {
   "cell_type": "code",
   "execution_count": 2,
   "metadata": {},
   "outputs": [
    {
     "name": "stdout",
     "output_type": "stream",
     "text": [
      "O produto: iphone vendeu 558147 em  2019 e 951642 em 2020, com um crescimento de 70.50%\n",
      "O produto: tv vendeu 405252 em  2019 e 787604 em 2020, com um crescimento de 94.35%\n",
      "O produto: máquina de café vendeu 718654 em  2019 e 867660 em 2020, com um crescimento de 20.73%\n",
      "O produto: notebook dell vendeu 422760 em  2019 e 694913 em 2020, com um crescimento de 64.38%\n",
      "O produto: notebook hp vendeu 154753 em  2019 e 539704 em 2020, com um crescimento de 248.75%\n",
      "O produto: microsoft surface vendeu 438508 em  2019 e 667179 em 2020, com um crescimento de 52.15%\n",
      "O produto: webcam vendeu 237467 em  2019 e 295633 em 2020, com um crescimento de 24.49%\n",
      "O produto: caixa de som vendeu 489705 em  2019 e 725316 em 2020, com um crescimento de 48.11%\n",
      "O produto: microfone vendeu 328311 em  2019 e 644622 em 2020, com um crescimento de 96.34%\n",
      "O produto: câmera canon vendeu 591120 em  2019 e 994303 em 2020, com um crescimento de 68.21%\n"
     ]
    }
   ],
   "source": [
    "produtos = ['iphone', 'galaxy', 'ipad', 'tv', 'máquina de café', 'kindle', 'geladeira', 'adega', 'notebook dell', 'notebook hp', 'notebook asus', 'microsoft surface', 'webcam', 'caixa de som', 'microfone', 'câmera canon']\n",
    "vendas2019 = [558147,712350,573823,405252,718654,531580,973139,892292,422760,154753,887061,438508,237467,489705,328311,591120]\n",
    "vendas2020 = [951642,244295,26964,787604,867660,78830,710331,646016,694913,539704,324831,667179,295633,725316,644622,994303]\n",
    "\n",
    "for i,produto in enumerate(produtos):\n",
    "    if vendas2020[i] > vendas2019[i]:\n",
    "        crescimento = vendas2020[i]/vendas2019[i]-1\n",
    "        print(f'O produto: {produto} vendeu {vendas2019[i]} em  2019 e {vendas2020[i]} em 2020, com um crescimento de {crescimento:.2%}')"
   ]
  }
 ],
 "metadata": {
  "kernelspec": {
   "display_name": "Python 3",
   "language": "python",
   "name": "python3"
  },
  "language_info": {
   "codemirror_mode": {
    "name": "ipython",
    "version": 3
   },
   "file_extension": ".py",
   "mimetype": "text/x-python",
   "name": "python",
   "nbconvert_exporter": "python",
   "pygments_lexer": "ipython3",
   "version": "3.11.3"
  }
 },
 "nbformat": 4,
 "nbformat_minor": 4
}
