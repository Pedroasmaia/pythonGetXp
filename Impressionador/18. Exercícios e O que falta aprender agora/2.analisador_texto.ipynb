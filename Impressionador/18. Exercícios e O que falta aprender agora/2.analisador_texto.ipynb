{
 "cells": [
  {
   "cell_type": "markdown",
   "id": "bc53556e-a539-4328-b873-fa5357312414",
   "metadata": {},
   "source": [
    "Crie um programa que analise um texto fornecido pelo usuário. O programa deve contar o número de palavras (independentemente se há repetição ou não), a quantidade de cada palavra e a quantidade de cada letra. Ignore maiúsculas e minúsculas ao contar letras (ou seja, transforme tudo para minúsculas). Faça o devido tratamento para pontuação e espaços ao contar palavras.\n",
    "\n",
    "O programa deve conter uma função chamada `analisar_texto` que recebe o texto como parâmetro e retorna a contagem de palavras, a frequência de palavras e a frequência de letras. A função deve ser devidamente documentada.\n",
    "\n",
    "Para o texto \"Olá mundo! Este é um teste. Olá novamente.\" o programa deve imprimir:\n",
    "\n",
    "```\n",
    "Contagem de palavras: 8\n",
    "Frequência de palavras: Counter({'Olá': 2, 'mundo': 1, 'Este': 1, 'é': 1, 'um': 1, 'teste': 1, 'novamente': 1})\n",
    "Frequência de letras: Counter({' ': 7, 'e': 6, 'o': 4, 't': 4, 'm': 3, 'n': 3, 'l': 2, 'á': 2, 'u': 2, 's': 2, 'd': 1, 'é': 1, 'v': 1, 'a': 1})\n",
    "```\n",
    "\n",
    "Dica: use o módulo `string` para obter uma lista de caracteres de pontuação. Exemplo:\n",
    "\n",
    "```python\n",
    "import string\n",
    "print(string.punctuation)\n",
    "```\n",
    "\n",
    "Dica: use o módulo `collections` para obter um contador de palavras e letras. Exemplo:\n",
    "\n",
    "```python\n",
    "from collections import Counter\n",
    "print(Counter(['a', 'b', 'a', 'c', 'b', 'a']))\n",
    "print(Counter('abacba'))\n",
    "``` "
   ]
  },
  {
   "cell_type": "code",
   "execution_count": 41,
   "id": "8feda3f2-210f-4224-9b53-de7206c039ae",
   "metadata": {},
   "outputs": [
    {
     "name": "stdout",
     "output_type": "stream",
     "text": [
      "Contagem de palavras: 8\n",
      "Frequencia de palavras: Counter({'olá': 2, 'mundo': 1, 'este': 1, 'é': 1, 'um': 1, 'teste': 1, 'novamente': 1})\n",
      "Frequencia de letras: Counter({' ': 7, 'e': 6, 'o': 4, 't': 4, 'm': 3, 'n': 3, 'l': 2, 'á': 2, 'u': 2, 's': 2, 'd': 1, 'é': 1, 'v': 1, 'a': 1})\n"
     ]
    }
   ],
   "source": [
    "from collections import Counter\n",
    "import string\n",
    "\n",
    "\n",
    "def analisar_texto(text):\n",
    "    \"\"\"\n",
    "    Analise o texto fornecido, contanto as palavras e frequencia de letras\n",
    "\n",
    "    parameters:\n",
    "    ----------\n",
    "    text: str\n",
    "        Texto a ser analisado\n",
    "\n",
    "    returns:\n",
    "    -----------\n",
    "    tuple\n",
    "        Contagem de palavras, frequencia de palavras, frequencia de letras\n",
    "    \n",
    "    \"\"\"\n",
    "    #Boa pratica:\n",
    "    #maketrans(tenho,quero_colocar,quero_remover)\n",
    "    ponto = str.maketrans(\"\",\"\",string.punctuation)\n",
    "    #translate(aplica a mascara criada pelo maketrans)\n",
    "    text = text.translate(ponto)\n",
    "\n",
    "    text = text.lower()\n",
    "    list_text = text.split()\n",
    "\n",
    "    '''\n",
    "    for i,word in enumerate(list_text):\n",
    "        for ponto in string.punctuation:\n",
    "            if ponto in word:\n",
    "                list_text[i] = list_text[i].replace(ponto,'')\n",
    "    for ponto in string.punctuation:\n",
    "        if ponto in text:\n",
    "            text = text.replace(ponto,'')\n",
    "    '''\n",
    "\n",
    "    total_palavras = len(list_text)\n",
    "    contagem_palavras = Counter(list_text)\n",
    "    contagem_letras = Counter(text)\n",
    "    return total_palavras,contagem_palavras,contagem_letras\n",
    "\n",
    "total,palavras,letras = analisar_texto(\"Olá mundo! Este é um teste. Olá novamente.\")\n",
    "print(f'Contagem de palavras: {total}')\n",
    "print(f'Frequencia de palavras: {palavras}')\n",
    "print(f'Frequencia de letras: {letras}')"
   ]
  }
 ],
 "metadata": {
  "kernelspec": {
   "display_name": "Python 3 (ipykernel)",
   "language": "python",
   "name": "python3"
  },
  "language_info": {
   "codemirror_mode": {
    "name": "ipython",
    "version": 3
   },
   "file_extension": ".py",
   "mimetype": "text/x-python",
   "name": "python",
   "nbconvert_exporter": "python",
   "pygments_lexer": "ipython3",
   "version": "3.11.3"
  }
 },
 "nbformat": 4,
 "nbformat_minor": 5
}
