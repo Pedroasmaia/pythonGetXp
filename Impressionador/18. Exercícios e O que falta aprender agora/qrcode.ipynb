{
 "cells": [
  {
   "cell_type": "markdown",
   "id": "9d4ec1f7-92e3-4764-8b47-318a52fc62c4",
   "metadata": {},
   "source": [
    "# Criando QR Code"
   ]
  },
  {
   "cell_type": "markdown",
   "id": "6a649f54-8f0f-46dd-933a-e934d67e51b0",
   "metadata": {},
   "source": [
    "Para instalar:\n",
    "\n",
    "```\n",
    "pip install qrcode\n",
    "pip install Pillow\n",
    "```"
   ]
  },
  {
   "cell_type": "markdown",
   "id": "0a2ec7b0-c74f-4857-a6a7-2b79641a44da",
   "metadata": {},
   "source": [
    "Links da Hashtag:\n",
    "\n",
    "- https://www.youtube.com/@HashtagProgramacao\n",
    "- https://www.facebook.com/hashtagprogramacao\n",
    "- https://www.instagram.com/hashtagprogramacao\n",
    "- https://www.youtube.com/@HashtagProgramacao\n",
    "- https://www.tiktok.com/@hashtagprogramacao"
   ]
  },
  {
   "cell_type": "code",
   "execution_count": 2,
   "metadata": {},
   "outputs": [
    {
     "name": "stdout",
     "output_type": "stream",
     "text": [
      "Requirement already satisfied: qrcode in c:\\python311\\lib\\site-packages (7.4.2)\n",
      "Requirement already satisfied: typing-extensions in c:\\python311\\lib\\site-packages (from qrcode) (4.7.0)\n",
      "Requirement already satisfied: pypng in c:\\python311\\lib\\site-packages (from qrcode) (0.20220715.0)\n",
      "Requirement already satisfied: colorama in c:\\users\\adm-ivoryit\\appdata\\roaming\\python\\python311\\site-packages (from qrcode) (0.4.6)\n",
      "Requirement already satisfied: Pillow in c:\\python311\\lib\\site-packages (10.0.0)\n"
     ]
    }
   ],
   "source": [
    "!pip install qrcode\n",
    "!pip install Pillow"
   ]
  },
  {
   "cell_type": "markdown",
   "id": "fbd74860-92b2-4efe-96cb-1bd4f701ba30",
   "metadata": {},
   "source": [
    "## QR Code simples"
   ]
  },
  {
   "cell_type": "code",
   "execution_count": 3,
   "id": "aeb7d00d-0dbd-446e-8f94-3b00e10a763d",
   "metadata": {},
   "outputs": [],
   "source": [
    "import qrcode\n",
    "\n",
    "image = qrcode.make(\"https://www.youtube.com/@HashtagProgramacao\")\n",
    "image.save(\"youtube.png\")"
   ]
  },
  {
   "cell_type": "markdown",
   "id": "0df50a17-96db-49b2-bf18-d00f8193ae0e",
   "metadata": {},
   "source": [
    "## QR Code com imagem"
   ]
  },
  {
   "cell_type": "code",
   "execution_count": 6,
   "id": "038b1eac-e441-4d0f-84af-097c3ade3791",
   "metadata": {},
   "outputs": [],
   "source": [
    "from qrcode.image.styledpil import StyledPilImage\n",
    "\n",
    "qr = qrcode.QRCode(error_correction=qrcode.ERROR_CORRECT_H)\n",
    "qr.add_data(\"https://www.youtube.com/@HashtagProgramacao\")\n",
    "image = qr.make_image(\n",
    "    image_factory = StyledPilImage,\n",
    "    embeded_image_path = \"logo.png\"\n",
    ")\n",
    "image.save(\"qrcode_logo.png\")"
   ]
  },
  {
   "cell_type": "markdown",
   "id": "6bd9dccf-64e7-4dfe-b4cb-f81ef1cd2f9f",
   "metadata": {},
   "source": [
    "## Criando diversos QR Code ao mesmo tempo"
   ]
  },
  {
   "cell_type": "code",
   "execution_count": 13,
   "id": "2028e0a0-49a6-4a9e-a903-0d1397cf2422",
   "metadata": {},
   "outputs": [],
   "source": [
    "redes_sociais = {\n",
    "\"Youtube\":\"https://www.youtube.com/@HashtagProgramacao\",\n",
    "\"facebook\":\"https://www.facebook.com/hashtagprogramacao\",\n",
    "\"instagram\":\"https://www.instagram.com/hashtagprogramacao\",\n",
    "\"tiktok\" : \"https://www.tiktok.com/@hashtagprogramacao\"\n",
    "}\n",
    "for rede,url in redes_sociais.items():\n",
    "    qr = qrcode.QRCode(error_correction=qrcode.ERROR_CORRECT_H)\n",
    "    qr.add_data(url)\n",
    "    image = qr.make_image(\n",
    "        image_factory = StyledPilImage,\n",
    "        embeded_image_path = \"logo.png\"\n",
    "    )\n",
    "    image.save(f\"{rede}_qrCode.png\")"
   ]
  }
 ],
 "metadata": {
  "kernelspec": {
   "display_name": "Python 3",
   "language": "python",
   "name": "python3"
  },
  "language_info": {
   "codemirror_mode": {
    "name": "ipython",
    "version": 3
   },
   "file_extension": ".py",
   "mimetype": "text/x-python",
   "name": "python",
   "nbconvert_exporter": "python",
   "pygments_lexer": "ipython3",
   "version": "3.11.3"
  }
 },
 "nbformat": 4,
 "nbformat_minor": 5
}
