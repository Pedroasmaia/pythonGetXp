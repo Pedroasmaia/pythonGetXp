{
 "cells": [
  {
   "cell_type": "markdown",
   "metadata": {},
   "source": [
    "# Exercícios\n"
   ]
  },
  {
   "cell_type": "markdown",
   "metadata": {},
   "source": [
    "## 3. Cadastro de e-mails\n",
    "\n",
    "- A Hashtag sempre se comunica com seus clientes por e-mail. Para isso, a gente tem em cada página um cadastro de nome e e-mail. Nesse cadastro, nosso sistema verifica se o e-mail que a pessoa inseriu é um e-mail válido, verificando se ele tem '@' e se depois do '@' tem algum ponto, afinal:\n",
    "\n",
    "- liragmail.com NÃO é um e-mail válido\n",
    "- lira@gmail NÃO é um e-mail válido\n",
    "- lira@gmail.com é um e-mail válido\n",
    "\n",
    "Crie um programa que permita o cadastro de nome e e-mail de uma pessoa (por meio de inputs) e que verifique:\n",
    "1. Se nome e e-mail foram preenchidos, caso contrário ele deve avisar para preencher todos os dados corretamente\n",
    "2. Se o e-mail contém '@' e se depois do '@' existe algum '.', caso contrário ele deve exibir uma mensagem de e-mail inválido\n",
    "\n",
    "Obs: Pode te ajudar lembrar do método .find da aula de Métodos de String. Você pode testar o que ele dá como resposta caso ele não encontre um item dentro da string"
   ]
  },
  {
   "cell_type": "code",
   "execution_count": 20,
   "metadata": {},
   "outputs": [
    {
     "name": "stdout",
     "output_type": "stream",
     "text": [
      "Email invalido\n"
     ]
    }
   ],
   "source": [
    "name = input('Digite seu nome: ')\n",
    "email = input('Digite seu email: ')\n",
    "at_sing_position = email.find('@')\n",
    "if name and email:\n",
    "    if '@' in email and '.' in email[at_sing_position:]:\n",
    "        print(\"Cadastro realizado\")\n",
    "    else:\n",
    "        print(\"Email invalido\")\n",
    "else:\n",
    "    print('Digite seus dados corretamente')\n"
   ]
  }
 ],
 "metadata": {
  "kernelspec": {
   "display_name": "Python 3",
   "language": "python",
   "name": "python3"
  },
  "language_info": {
   "codemirror_mode": {
    "name": "ipython",
    "version": 3
   },
   "file_extension": ".py",
   "mimetype": "text/x-python",
   "name": "python",
   "nbconvert_exporter": "python",
   "pygments_lexer": "ipython3",
   "version": "3.11.3"
  }
 },
 "nbformat": 4,
 "nbformat_minor": 4
}
