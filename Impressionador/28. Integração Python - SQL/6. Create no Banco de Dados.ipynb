{
 "cells": [
  {
   "cell_type": "code",
   "execution_count": 5,
   "metadata": {},
   "outputs": [
    {
     "name": "stdout",
     "output_type": "stream",
     "text": [
      "(352, 'Pedro Folk', 4)\n"
     ]
    }
   ],
   "source": [
    "import pyodbc\n",
    "\n",
    "#Driver: Qual banco da conexão\n",
    "#Server: hostname para a conexão\n",
    "#Database: Banco de de dados\n",
    "#UID=User\n",
    "#PWD=Senha\n",
    "dados_conexao = (\"Driver={SQLite3 ODBC Driver};Server=localhost;Database=chinook.db\")\n",
    "\n",
    "conexao = pyodbc.connect(dados_conexao)\n",
    "cursor = conexao.cursor()\n",
    "cursor.execute(\"\"\"\n",
    "               INSERT INTO albums (Title,ArtistId)\n",
    "               VALUES\n",
    "               ('Pedro Folk',4)\n",
    "               \"\"\")\n",
    "cursor.execute(\"SELECT * FROM albums\")\n",
    "#Aplicar as mudanças\n",
    "cursor.commit()\n",
    "valores = cursor.fetchall()\n",
    "print(valores[-1])\n",
    "#Fechar as conexçoes\n",
    "cursor.close()"
   ]
  }
 ],
 "metadata": {
  "kernelspec": {
   "display_name": "Python 3",
   "language": "python",
   "name": "python3"
  },
  "language_info": {
   "codemirror_mode": {
    "name": "ipython",
    "version": 3
   },
   "file_extension": ".py",
   "mimetype": "text/x-python",
   "name": "python",
   "nbconvert_exporter": "python",
   "pygments_lexer": "ipython3",
   "version": "3.9.13"
  }
 },
 "nbformat": 4,
 "nbformat_minor": 2
}
