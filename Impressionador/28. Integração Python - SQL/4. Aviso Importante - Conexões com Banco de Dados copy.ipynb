{
 "cells": [
  {
   "cell_type": "code",
   "execution_count": null,
   "metadata": {},
   "outputs": [],
   "source": [
    "import pyodbc\n",
    "\n",
    "dados_conexao = (\"Driver={SQLite3 ODBC Driver};Server=localhost;Database=chinook.db\")\n",
    "\n",
    "conexao = pyodbc.connect(dados_conexao)\n",
    "cursor = conexao.cursor()\n",
    "cursor.close()\n",
    "conexao.close()"
   ]
  }
 ],
 "metadata": {
  "kernelspec": {
   "display_name": "Python 3",
   "language": "python",
   "name": "python3"
  },
  "language_info": {
   "codemirror_mode": {
    "name": "ipython",
    "version": 3
   },
   "file_extension": ".py",
   "mimetype": "text/x-python",
   "name": "python",
   "nbconvert_exporter": "python",
   "pygments_lexer": "ipython3",
   "version": "3.9.13"
  }
 },
 "nbformat": 4,
 "nbformat_minor": 2
}
