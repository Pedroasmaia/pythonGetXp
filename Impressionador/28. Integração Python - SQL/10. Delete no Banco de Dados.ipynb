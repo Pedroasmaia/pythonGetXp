{
 "cells": [
  {
   "cell_type": "markdown",
   "metadata": {},
   "source": [
    "# Delete no banco"
   ]
  },
  {
   "cell_type": "code",
   "execution_count": 7,
   "metadata": {},
   "outputs": [],
   "source": [
    "import pyodbc\n",
    "\n",
    "#Driver: Qual banco da conexão\n",
    "#Server: hostname para a conexão\n",
    "#Database: Banco de de dados\n",
    "#UID=User\n",
    "#PWD=Senha\n",
    "dados_conexao = (\"Driver={SQLite3 ODBC Driver};Server=localhost;Database=chinook.db\")\n",
    "\n",
    "conexao = pyodbc.connect(dados_conexao)\n",
    "cursor = conexao.cursor()\n",
    "\n",
    "tabela = \"albums\"\n",
    "coluna = \"Title\"\n",
    "query_sql = f\"\"\"\n",
    "\n",
    "DELETE FROM {tabela} WHERE {coluna}='Balls to the Wall'\n",
    "\n",
    "\"\"\"\n",
    "\n",
    "cursor.execute(query_sql) #Executar Comando\n",
    "cursor.commit() # Perpetuar modificações\n",
    "cursor.close() \n",
    "conexao.close() # Finalizar conexão"
   ]
  }
 ],
 "metadata": {
  "kernelspec": {
   "display_name": "Python 3",
   "language": "python",
   "name": "python3"
  },
  "language_info": {
   "codemirror_mode": {
    "name": "ipython",
    "version": 3
   },
   "file_extension": ".py",
   "mimetype": "text/x-python",
   "name": "python",
   "nbconvert_exporter": "python",
   "pygments_lexer": "ipython3",
   "version": "3.9.13"
  }
 },
 "nbformat": 4,
 "nbformat_minor": 2
}
